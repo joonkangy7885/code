{
 "cells": [
  {
   "cell_type": "code",
   "execution_count": 7,
   "metadata": {},
   "outputs": [],
   "source": [
    "import csv\n",
    "import pandas as pd\n",
    "ipcc= pd.read_csv(r\"/Users/joonkng/Desktop/pandasApp/ipcc.csv\")\n",
    "economic_sectors= pd.read_csv(r\"/Users/joonkng/Desktop/pandasApp/economic_sectors.csv\")\n",
    "energy= pd.read_csv(r\"/Users/joonkng/Desktop/pandasApp/energy.csv\")\n",
    "agriculture = pd.read_csv(r\"/Users/joonkng/Desktop/pandasApp/agriculture.csv\")\n",
    "end_sector_use = pd.read_csv(r\"/Users/joonkng/Desktop/pandasApp/end_sector_use.csv\")\n",
    "industrial = pd.read_csv(r\"/Users/joonkng/Desktop/pandasApp/industrial.csv\")\n",
    "\n"
   ]
  },
  {
   "cell_type": "code",
   "execution_count": 8,
   "metadata": {},
   "outputs": [
    {
     "name": "stdout",
     "output_type": "stream",
     "text": [
      "        IPCC Sector/Category  Unnamed: 1      1990      1991      1992  \\\n",
      "0                     Energy         NaN  5,368.00  5,321.00  5,428.40   \n",
      "1     Fossil Fuel Combustion         NaN  4,728.20  4,677.00  4,777.60   \n",
      "2        Natural Gas Systems         NaN     247.3     249.9     248.4   \n",
      "3    Non-Energy Use of Fuels         NaN     112.4     117.7     124.2   \n",
      "4          Petroleum Systems         NaN      60.8      61.2      60.2   \n",
      "..                       ...         ...       ...       ...       ...   \n",
      "137                      NaN         NaN       NaN       NaN       NaN   \n",
      "138                      NaN         NaN       NaN       NaN       NaN   \n",
      "139                      NaN         NaN       NaN       NaN       NaN   \n",
      "140                      NaN         NaN       NaN       NaN       NaN   \n",
      "141                      NaN         NaN       NaN       NaN       NaN   \n",
      "\n",
      "         1993      1994      1995      1996      1997  ...      2013  \\\n",
      "0    5,517.50  5,606.30  5,653.80  5,841.70  5,912.70  ...  5,714.10   \n",
      "1    4,891.10  4,962.30  5,018.70  5,209.60  5,269.80  ...  5,123.00   \n",
      "2       248.8     250.9     242.8     237.7     238.1  ...     224.5   \n",
      "3         113     123.7       121     118.1       129  ...       102   \n",
      "4        60.1      59.1        60      62.7      64.2  ...      92.2   \n",
      "..        ...       ...       ...       ...       ...  ...       ...   \n",
      "137       NaN       NaN       NaN       NaN       NaN  ...       NaN   \n",
      "138       NaN       NaN       NaN       NaN       NaN  ...       NaN   \n",
      "139       NaN       NaN       NaN       NaN       NaN  ...       NaN   \n",
      "140       NaN       NaN       NaN       NaN       NaN  ...       NaN   \n",
      "141       NaN       NaN       NaN       NaN       NaN  ...       NaN   \n",
      "\n",
      "         2014      2015      2016      2017      2018      2019      2020  \\\n",
      "0    5,754.10  5,596.80  5,450.80  5,418.70  5,589.50  5,460.60  4,894.00   \n",
      "1    5,165.30  5,007.30  4,909.90  4,852.50  4,989.80  4,855.90  4,344.90   \n",
      "2       222.3     223.3     214.6     218.1     227.1     232.2     221.8   \n",
      "3        97.5     108.5      99.9     112.8     129.4     127.6     119.2   \n",
      "4        98.2      95.4      74.6      86.4      96.8     106.8      83.6   \n",
      "..        ...       ...       ...       ...       ...       ...       ...   \n",
      "137       NaN       NaN       NaN       NaN       NaN       NaN       NaN   \n",
      "138       NaN       NaN       NaN       NaN       NaN       NaN       NaN   \n",
      "139       NaN       NaN       NaN       NaN       NaN       NaN       NaN   \n",
      "140       NaN       NaN       NaN       NaN       NaN       NaN       NaN   \n",
      "141       NaN       NaN       NaN       NaN       NaN       NaN       NaN   \n",
      "\n",
      "         2021 Unnamed: 34  \n",
      "0    5,196.60         NaN  \n",
      "1    4,639.10         NaN  \n",
      "2       217.5         NaN  \n",
      "3       140.2         NaN  \n",
      "4        74.9         NaN  \n",
      "..        ...         ...  \n",
      "137       NaN         NaN  \n",
      "138       NaN         NaN  \n",
      "139       NaN         NaN  \n",
      "140       NaN         NaN  \n",
      "141       NaN         NaN  \n",
      "\n",
      "[142 rows x 35 columns]\n"
     ]
    }
   ],
   "source": [
    "print(ipcc)"
   ]
  },
  {
   "cell_type": "code",
   "execution_count": null,
   "metadata": {},
   "outputs": [],
   "source": []
  }
 ],
 "metadata": {
  "kernelspec": {
   "display_name": ".venv",
   "language": "python",
   "name": "python3"
  },
  "language_info": {
   "codemirror_mode": {
    "name": "ipython",
    "version": 3
   },
   "file_extension": ".py",
   "mimetype": "text/x-python",
   "name": "python",
   "nbconvert_exporter": "python",
   "pygments_lexer": "ipython3",
   "version": "3.12.0"
  }
 },
 "nbformat": 4,
 "nbformat_minor": 2
}
